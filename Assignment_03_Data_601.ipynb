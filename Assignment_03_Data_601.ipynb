{
 "cells": [
  {
   "cell_type": "markdown",
   "metadata": {
    "id": "7N2eGyhl6ewY"
   },
   "source": [
    "##Assignment 03 - Fake Data\n",
    "Subject: DATA 601\n",
    "Professor: John Wan\n",
    "\n",
    "\n",
    "- Write a Python notebook to generate a file containing the following data:​ ​\n",
    "\n",
    "  - Email addresses​. Must have an \"@\"\n",
    "  - Phone numbers​\n",
    "  - Home Address​\n",
    "  - Person's name​\n",
    "  - Year born. Use realistic values.​\n",
    "  - Number of kids. Use realistic values.​\n",
    "  - Categorical variable: rent or own?​\n",
    "  - Annual income. Optional challenge: Use a non-uniform   distribution​\n",
    "  - Number of speeding tickets in past year. Optional challenge: Use a non-uniform distribution​\n"
   ]
  },
  {
   "cell_type": "code",
   "execution_count": 1,
   "metadata": {
    "id": "t42w3vupfsnq"
   },
   "outputs": [],
   "source": [
    "import pandas as pd\n",
    "import random"
   ]
  },
  {
   "cell_type": "code",
   "execution_count": 2,
   "metadata": {
    "id": "cjBM6imWiT84"
   },
   "outputs": [],
   "source": [
    "columns=['first_name', 'phone','address','email','birth_year','number_of_kids','house_ownership','annual_income','no_of_speeding_tickets']\n"
   ]
  },
  {
   "cell_type": "code",
   "execution_count": 3,
   "metadata": {
    "id": "pg_tf1triWBE"
   },
   "outputs": [],
   "source": [
    "df=pd.DataFrame(columns=columns)"
   ]
  },
  {
   "cell_type": "code",
   "execution_count": 7,
   "metadata": {
    "id": "xcK9_riiid45"
   },
   "outputs": [
    {
     "name": "stdout",
     "output_type": "stream",
     "text": [
      "Enter the no. or rows required:201\n"
     ]
    }
   ],
   "source": [
    "first_names = ['Peter','Kerry','John','Jeremy','Paula','Angela','Rupert','Harry','Rose','Vince','Lizzie','Paul','Ajit','Manny','William','Barbara','Jessica','Karen','Margaret','Rhonda']\n",
    "\n",
    "last_names = ['Smith', 'Doe', 'Jenkins', 'Robinson', 'Davis', 'Stuart', 'Jefferson', 'Jacobs', 'Wright', 'Patterson', 'Wilks', 'Arnold', 'Johnson', 'Williams', 'Jones', 'Brown', 'Davis', 'Miller', 'Wilson', 'Moore', 'Taylor', 'Anderson', 'Thomas', 'Jackson', 'White', 'Harris', 'Martin']\n",
    "\n",
    "street_names = ['Second','Third,First','Fourth','Park','Fifth','Main','Sixth','Oak','Seventh','Pine','Maple','Cedar,Eighth','Elm','View','Washington','Ninth','Lake','Hill','Melbourne','Cross','Broadway','Jackson','Birch']\n",
    "\n",
    "fake_cities = ['New York City','Los Angeles','Chicago','Houston','Phoenix','Philadelphia','San Antonio','San Diego','Dallas','Austin','San Jose','Fort Worth','Jacksonville','Columbus','Charlotte','Indianapolis','San Francisco','Seattle','Denver','Washington','Boston','El Paso','Nashville','Oklahoma City','Las Vegas','Detroit','Portland','Memphis','Louisville','Milwaukee','Baltimore','Albuquerque','Tucson','Mesa','Fresno','Sacramento','Atlanta','Kansas City','Colorado Springs','Raleigh','Omaha','Miami','Long Beach','Virginia Beach','Oakland','Minneapolis','Tampa','Tulsa','Arlington','Wichita']\n",
    "\n",
    "states = ['AL', 'AK', 'AZ', 'AR', 'CA', 'CO', 'CT', 'DC', 'DE', 'FL', 'GA', 'HI', 'ID', 'IL', 'IN', 'IA', 'KS', 'KY', 'LA', 'ME', 'MD', 'MA', 'MI', 'MN', 'MS', 'MO', 'MT', 'NE', 'NV', 'NH', 'NJ', 'NM', 'NY', 'NC', 'ND', 'OH', 'OK', 'OR', 'PA', 'RI', 'SC', 'SD', 'TN', 'TX', 'UT', 'VT', 'VA', 'WA', 'WV', 'WI', 'WY']\n",
    "\n",
    "house_owner=['rent','own']\n",
    "\n",
    "r=int(input(\"Enter the no. or rows required:\"))\n",
    "\n",
    "for i in range(r):\n",
    "    first_name = random.choice(first_names)\n",
    "    last_name = random.choice(last_names)\n",
    "\n",
    "    phone = f'{random.randint(100, 999)}-429-{random.randint(1000,9999)}'\n",
    "    birth_year=random.randint(1940,1990)\n",
    "    number_of_kids=random.randint(1,5)\n",
    "    annual_income=random.randint(5000,500000)\n",
    "    street_num = random.randint(100, 999)\n",
    "    no_of_speeding_tickets=random.randint(1,5)\n",
    "    house_ownership=random.choice(house_owner)\n",
    "    street = random.choice(street_names)\n",
    "    city = random.choice(fake_cities)\n",
    "    state = random.choice(states)\n",
    "    zip_code = random.randint(10000, 99999)\n",
    "    address = f'{street_num} {street} St., {city}, {state}-{zip_code}'\n",
    "    email = first_name.lower() + last_name.lower() + '@gmail.com'\n",
    "    \n",
    "    df.loc[i]=[first_name,phone,address,email,birth_year,number_of_kids,house_ownership,annual_income,no_of_speeding_tickets]\n",
    "\n",
    "df.to_csv('fake_data.csv')\n"
   ]
  }
 ],
 "metadata": {
  "colab": {
   "name": "Assignment_03_Data 601.ipynb",
   "provenance": []
  },
  "kernelspec": {
   "display_name": "Python 3",
   "language": "python",
   "name": "python3"
  },
  "language_info": {
   "codemirror_mode": {
    "name": "ipython",
    "version": 3
   },
   "file_extension": ".py",
   "mimetype": "text/x-python",
   "name": "python",
   "nbconvert_exporter": "python",
   "pygments_lexer": "ipython3",
   "version": "3.8.8"
  }
 },
 "nbformat": 4,
 "nbformat_minor": 1
}
