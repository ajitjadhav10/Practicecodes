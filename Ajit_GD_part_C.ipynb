{
  "nbformat": 4,
  "nbformat_minor": 0,
  "metadata": {
    "colab": {
      "name": "Ajit_GD_part_C.ipynb",
      "provenance": [],
      "authorship_tag": "ABX9TyMB/bxlxwqcdFgYRxI5js/A",
      "include_colab_link": true
    },
    "kernelspec": {
      "name": "python3",
      "display_name": "Python 3"
    },
    "language_info": {
      "name": "python"
    }
  },
  "cells": [
    {
      "cell_type": "markdown",
      "metadata": {
        "id": "view-in-github",
        "colab_type": "text"
      },
      "source": [
        "<a href=\"https://colab.research.google.com/github/ajitjadhav10/Practicecodes/blob/main/Ajit_GD_part_C.ipynb\" target=\"_parent\"><img src=\"https://colab.research.google.com/assets/colab-badge.svg\" alt=\"Open In Colab\"/></a>"
      ]
    },
    {
      "cell_type": "markdown",
      "source": [
        "Importing libraries"
      ],
      "metadata": {
        "id": "tdWO_gBN5WYk"
      }
    },
    {
      "cell_type": "code",
      "execution_count": null,
      "metadata": {
        "id": "TkF-nCTsvG38"
      },
      "outputs": [],
      "source": [
        "import pandas as pd\n",
        "import numpy as np\n",
        "import matplotlib.pyplot as plt\n",
        "import seaborn as sns"
      ]
    },
    {
      "cell_type": "markdown",
      "source": [
        "Importing the dataset"
      ],
      "metadata": {
        "id": "WdYSHM7G5eDi"
      }
    },
    {
      "cell_type": "code",
      "source": [
        "df_1=pd.read_csv('https://raw.githubusercontent.com/ajitjadhav10/Databases/main/slot_performance%20Table.csv')\n",
        "df_1.head()"
      ],
      "metadata": {
        "colab": {
          "base_uri": "https://localhost:8080/",
          "height": 270
        },
        "id": "yQbjCKdcvOfi",
        "outputId": "75fcd81e-52b8-426f-82ae-44f6232cbecf"
      },
      "execution_count": null,
      "outputs": [
        {
          "output_type": "execute_result",
          "data": {
            "text/plain": [
              "   employer_id  city_id  contract_id  start_date    end_date  renewed_flag  \\\n",
              "0      4277920     9767      2423796  30/10/2017  11/30/2017             1   \n",
              "1      2372987     8585      2074128  29/06/2017   7/29/2017             0   \n",
              "2      1142693     6665      1924740    2/5/2017    6/2/2017             0   \n",
              "3      1353893     5165      1942512    9/5/2017    6/6/2017             0   \n",
              "4       922427     3882      1380984  19/09/2016  10/20/2016             1   \n",
              "\n",
              "   job_slots  total_contract_value  applications  apply_start_clicks  \\\n",
              "0         15                   995           215                 255   \n",
              "1         50                  1495            55                  70   \n",
              "2         15                   495            45                  95   \n",
              "3         15                   995           155                 175   \n",
              "4         15                   745           150                 185   \n",
              "\n",
              "   click_marketplace_value  job_listings  \n",
              "0                 15484.40            25  \n",
              "1                  1719.30            50  \n",
              "2                  1195.75            20  \n",
              "3                  1197.35            20  \n",
              "4                  8889.70            20  "
            ],
            "text/html": [
              "\n",
              "  <div id=\"df-8ea272f7-4d42-4a84-a6c6-0c701aac020a\">\n",
              "    <div class=\"colab-df-container\">\n",
              "      <div>\n",
              "<style scoped>\n",
              "    .dataframe tbody tr th:only-of-type {\n",
              "        vertical-align: middle;\n",
              "    }\n",
              "\n",
              "    .dataframe tbody tr th {\n",
              "        vertical-align: top;\n",
              "    }\n",
              "\n",
              "    .dataframe thead th {\n",
              "        text-align: right;\n",
              "    }\n",
              "</style>\n",
              "<table border=\"1\" class=\"dataframe\">\n",
              "  <thead>\n",
              "    <tr style=\"text-align: right;\">\n",
              "      <th></th>\n",
              "      <th>employer_id</th>\n",
              "      <th>city_id</th>\n",
              "      <th>contract_id</th>\n",
              "      <th>start_date</th>\n",
              "      <th>end_date</th>\n",
              "      <th>renewed_flag</th>\n",
              "      <th>job_slots</th>\n",
              "      <th>total_contract_value</th>\n",
              "      <th>applications</th>\n",
              "      <th>apply_start_clicks</th>\n",
              "      <th>click_marketplace_value</th>\n",
              "      <th>job_listings</th>\n",
              "    </tr>\n",
              "  </thead>\n",
              "  <tbody>\n",
              "    <tr>\n",
              "      <th>0</th>\n",
              "      <td>4277920</td>\n",
              "      <td>9767</td>\n",
              "      <td>2423796</td>\n",
              "      <td>30/10/2017</td>\n",
              "      <td>11/30/2017</td>\n",
              "      <td>1</td>\n",
              "      <td>15</td>\n",
              "      <td>995</td>\n",
              "      <td>215</td>\n",
              "      <td>255</td>\n",
              "      <td>15484.40</td>\n",
              "      <td>25</td>\n",
              "    </tr>\n",
              "    <tr>\n",
              "      <th>1</th>\n",
              "      <td>2372987</td>\n",
              "      <td>8585</td>\n",
              "      <td>2074128</td>\n",
              "      <td>29/06/2017</td>\n",
              "      <td>7/29/2017</td>\n",
              "      <td>0</td>\n",
              "      <td>50</td>\n",
              "      <td>1495</td>\n",
              "      <td>55</td>\n",
              "      <td>70</td>\n",
              "      <td>1719.30</td>\n",
              "      <td>50</td>\n",
              "    </tr>\n",
              "    <tr>\n",
              "      <th>2</th>\n",
              "      <td>1142693</td>\n",
              "      <td>6665</td>\n",
              "      <td>1924740</td>\n",
              "      <td>2/5/2017</td>\n",
              "      <td>6/2/2017</td>\n",
              "      <td>0</td>\n",
              "      <td>15</td>\n",
              "      <td>495</td>\n",
              "      <td>45</td>\n",
              "      <td>95</td>\n",
              "      <td>1195.75</td>\n",
              "      <td>20</td>\n",
              "    </tr>\n",
              "    <tr>\n",
              "      <th>3</th>\n",
              "      <td>1353893</td>\n",
              "      <td>5165</td>\n",
              "      <td>1942512</td>\n",
              "      <td>9/5/2017</td>\n",
              "      <td>6/6/2017</td>\n",
              "      <td>0</td>\n",
              "      <td>15</td>\n",
              "      <td>995</td>\n",
              "      <td>155</td>\n",
              "      <td>175</td>\n",
              "      <td>1197.35</td>\n",
              "      <td>20</td>\n",
              "    </tr>\n",
              "    <tr>\n",
              "      <th>4</th>\n",
              "      <td>922427</td>\n",
              "      <td>3882</td>\n",
              "      <td>1380984</td>\n",
              "      <td>19/09/2016</td>\n",
              "      <td>10/20/2016</td>\n",
              "      <td>1</td>\n",
              "      <td>15</td>\n",
              "      <td>745</td>\n",
              "      <td>150</td>\n",
              "      <td>185</td>\n",
              "      <td>8889.70</td>\n",
              "      <td>20</td>\n",
              "    </tr>\n",
              "  </tbody>\n",
              "</table>\n",
              "</div>\n",
              "      <button class=\"colab-df-convert\" onclick=\"convertToInteractive('df-8ea272f7-4d42-4a84-a6c6-0c701aac020a')\"\n",
              "              title=\"Convert this dataframe to an interactive table.\"\n",
              "              style=\"display:none;\">\n",
              "        \n",
              "  <svg xmlns=\"http://www.w3.org/2000/svg\" height=\"24px\"viewBox=\"0 0 24 24\"\n",
              "       width=\"24px\">\n",
              "    <path d=\"M0 0h24v24H0V0z\" fill=\"none\"/>\n",
              "    <path d=\"M18.56 5.44l.94 2.06.94-2.06 2.06-.94-2.06-.94-.94-2.06-.94 2.06-2.06.94zm-11 1L8.5 8.5l.94-2.06 2.06-.94-2.06-.94L8.5 2.5l-.94 2.06-2.06.94zm10 10l.94 2.06.94-2.06 2.06-.94-2.06-.94-.94-2.06-.94 2.06-2.06.94z\"/><path d=\"M17.41 7.96l-1.37-1.37c-.4-.4-.92-.59-1.43-.59-.52 0-1.04.2-1.43.59L10.3 9.45l-7.72 7.72c-.78.78-.78 2.05 0 2.83L4 21.41c.39.39.9.59 1.41.59.51 0 1.02-.2 1.41-.59l7.78-7.78 2.81-2.81c.8-.78.8-2.07 0-2.86zM5.41 20L4 18.59l7.72-7.72 1.47 1.35L5.41 20z\"/>\n",
              "  </svg>\n",
              "      </button>\n",
              "      \n",
              "  <style>\n",
              "    .colab-df-container {\n",
              "      display:flex;\n",
              "      flex-wrap:wrap;\n",
              "      gap: 12px;\n",
              "    }\n",
              "\n",
              "    .colab-df-convert {\n",
              "      background-color: #E8F0FE;\n",
              "      border: none;\n",
              "      border-radius: 50%;\n",
              "      cursor: pointer;\n",
              "      display: none;\n",
              "      fill: #1967D2;\n",
              "      height: 32px;\n",
              "      padding: 0 0 0 0;\n",
              "      width: 32px;\n",
              "    }\n",
              "\n",
              "    .colab-df-convert:hover {\n",
              "      background-color: #E2EBFA;\n",
              "      box-shadow: 0px 1px 2px rgba(60, 64, 67, 0.3), 0px 1px 3px 1px rgba(60, 64, 67, 0.15);\n",
              "      fill: #174EA6;\n",
              "    }\n",
              "\n",
              "    [theme=dark] .colab-df-convert {\n",
              "      background-color: #3B4455;\n",
              "      fill: #D2E3FC;\n",
              "    }\n",
              "\n",
              "    [theme=dark] .colab-df-convert:hover {\n",
              "      background-color: #434B5C;\n",
              "      box-shadow: 0px 1px 3px 1px rgba(0, 0, 0, 0.15);\n",
              "      filter: drop-shadow(0px 1px 2px rgba(0, 0, 0, 0.3));\n",
              "      fill: #FFFFFF;\n",
              "    }\n",
              "  </style>\n",
              "\n",
              "      <script>\n",
              "        const buttonEl =\n",
              "          document.querySelector('#df-8ea272f7-4d42-4a84-a6c6-0c701aac020a button.colab-df-convert');\n",
              "        buttonEl.style.display =\n",
              "          google.colab.kernel.accessAllowed ? 'block' : 'none';\n",
              "\n",
              "        async function convertToInteractive(key) {\n",
              "          const element = document.querySelector('#df-8ea272f7-4d42-4a84-a6c6-0c701aac020a');\n",
              "          const dataTable =\n",
              "            await google.colab.kernel.invokeFunction('convertToInteractive',\n",
              "                                                     [key], {});\n",
              "          if (!dataTable) return;\n",
              "\n",
              "          const docLinkHtml = 'Like what you see? Visit the ' +\n",
              "            '<a target=\"_blank\" href=https://colab.research.google.com/notebooks/data_table.ipynb>data table notebook</a>'\n",
              "            + ' to learn more about interactive tables.';\n",
              "          element.innerHTML = '';\n",
              "          dataTable['output_type'] = 'display_data';\n",
              "          await google.colab.output.renderOutput(dataTable, element);\n",
              "          const docLink = document.createElement('div');\n",
              "          docLink.innerHTML = docLinkHtml;\n",
              "          element.appendChild(docLink);\n",
              "        }\n",
              "      </script>\n",
              "    </div>\n",
              "  </div>\n",
              "  "
            ]
          },
          "metadata": {},
          "execution_count": 16
        }
      ]
    },
    {
      "cell_type": "markdown",
      "source": [
        "Storing the features in X and the target Y"
      ],
      "metadata": {
        "id": "l_7SMc585jNE"
      }
    },
    {
      "cell_type": "code",
      "source": [
        "X=df_1[['job_slots','total_contract_value','applications','apply_start_clicks','click_marketplace_value','job_listings']]\n",
        "Y=df_1['renewed_flag']"
      ],
      "metadata": {
        "id": "yCdhoABBvcbV"
      },
      "execution_count": null,
      "outputs": []
    },
    {
      "cell_type": "markdown",
      "source": [
        "Splitting the data into train and test data"
      ],
      "metadata": {
        "id": "auUSXYwP5yv_"
      }
    },
    {
      "cell_type": "code",
      "source": [
        "from sklearn.model_selection import train_test_split\n",
        "\n",
        "X_train, X_test, Y_train, Y_test = train_test_split(X, Y, test_size=0.3)"
      ],
      "metadata": {
        "id": "X_aC6aeIwTBE"
      },
      "execution_count": null,
      "outputs": []
    },
    {
      "cell_type": "markdown",
      "source": [
        "## Using Random Forest Classifier model and training the model on the training data"
      ],
      "metadata": {
        "id": "tkkodeXV554r"
      }
    },
    {
      "cell_type": "code",
      "source": [
        "from sklearn.ensemble import RandomForestClassifier\n",
        "\n",
        "clf=RandomForestClassifier(n_estimators=1000, max_depth=2)\n",
        "clf.fit(X_train,Y_train)\n",
        "Y_pred=clf.predict(X_test)\n",
        "Y_pred"
      ],
      "metadata": {
        "colab": {
          "base_uri": "https://localhost:8080/"
        },
        "id": "05dTom0FwW3O",
        "outputId": "851586e0-c40d-41b3-a492-3b43ed4cfa56"
      },
      "execution_count": null,
      "outputs": [
        {
          "output_type": "execute_result",
          "data": {
            "text/plain": [
              "array([1, 1, 1, ..., 1, 1, 1])"
            ]
          },
          "metadata": {},
          "execution_count": 29
        }
      ]
    },
    {
      "cell_type": "markdown",
      "source": [
        "Finding the importance of different features of the dataset"
      ],
      "metadata": {
        "id": "-vKxv_v4679R"
      }
    },
    {
      "cell_type": "code",
      "source": [
        "feature_imp = pd.Series(clf.feature_importances_,index=X.columns).sort_values(ascending=False)\n",
        "feature_imp"
      ],
      "metadata": {
        "colab": {
          "base_uri": "https://localhost:8080/"
        },
        "id": "_g0viCw6wacR",
        "outputId": "af657f72-2d90-4f73-f67c-e23929f960a7"
      },
      "execution_count": null,
      "outputs": [
        {
          "output_type": "execute_result",
          "data": {
            "text/plain": [
              "click_marketplace_value    0.416867\n",
              "apply_start_clicks         0.282023\n",
              "applications               0.144240\n",
              "total_contract_value       0.137745\n",
              "job_listings               0.016295\n",
              "job_slots                  0.002830\n",
              "dtype: float64"
            ]
          },
          "metadata": {},
          "execution_count": 20
        }
      ]
    },
    {
      "cell_type": "markdown",
      "source": [
        "Plotting the feature importance"
      ],
      "metadata": {
        "id": "d-epdkJr-_J_"
      }
    },
    {
      "cell_type": "code",
      "source": [
        "sns.barplot(x=feature_imp, y=feature_imp.index)\n",
        "# Add labels to your graph\n",
        "plt.xlabel('Score')\n",
        "plt.ylabel('Features')\n",
        "plt.title(\"Important Features\")\n",
        "plt.legend()\n",
        "plt.show()"
      ],
      "metadata": {
        "colab": {
          "base_uri": "https://localhost:8080/",
          "height": 313
        },
        "id": "4aXnFHyb-6ql",
        "outputId": "07d65743-0c1b-4909-bb96-ff3a8bbad748"
      },
      "execution_count": null,
      "outputs": [
        {
          "output_type": "stream",
          "name": "stderr",
          "text": [
            "No handles with labels found to put in legend.\n"
          ]
        },
        {
          "output_type": "display_data",
          "data": {
            "text/plain": [
              "<Figure size 432x288 with 1 Axes>"
            ],
            "image/png": "[encoded data removed]"
          },
          "metadata": {
            "needs_background": "light"
          }
        }
      ]
    },
    {
      "cell_type": "markdown",
      "source": [
        "Calculating the accuracy Score"
      ],
      "metadata": {
        "id": "mTUSq3nD7QwA"
      }
    },
    {
      "cell_type": "code",
      "source": [
        "from sklearn.metrics import accuracy_score\n",
        "print(\"Accuracy score: \",accuracy_score(Y_test,Y_pred))"
      ],
      "metadata": {
        "colab": {
          "base_uri": "https://localhost:8080/"
        },
        "id": "1V6BRJbrwq97",
        "outputId": "89947de5-4787-4490-93d6-730ee4307fa2"
      },
      "execution_count": null,
      "outputs": [
        {
          "output_type": "stream",
          "name": "stdout",
          "text": [
            "Accuracy score:  0.703566384180791\n"
          ]
        }
      ]
    },
    {
      "cell_type": "markdown",
      "source": [
        "## Using Gradient Boost Classifier model to check if there is an improvement in the accuracy of the model"
      ],
      "metadata": {
        "id": "29f2fzr398RR"
      }
    },
    {
      "cell_type": "code",
      "source": [
        "from sklearn.ensemble import GradientBoostingClassifier\n",
        "\n",
        "clf_1=GradientBoostingClassifier(n_estimators=3000,max_depth=2)\n",
        "clf_1=clf_1.fit(X_train,Y_train)"
      ],
      "metadata": {
        "id": "wY-g65pLx_tF"
      },
      "execution_count": null,
      "outputs": []
    },
    {
      "cell_type": "code",
      "source": [
        "y_pred_1=clf_1.predict(X_test)\n",
        "y_pred_1"
      ],
      "metadata": {
        "colab": {
          "base_uri": "https://localhost:8080/"
        },
        "id": "olOJmKA8yDZJ",
        "outputId": "59d3141c-01d0-4391-f9f4-8142de18709d"
      },
      "execution_count": null,
      "outputs": [
        {
          "output_type": "execute_result",
          "data": {
            "text/plain": [
              "array([1, 1, 1, ..., 1, 1, 1])"
            ]
          },
          "metadata": {},
          "execution_count": 23
        }
      ]
    },
    {
      "cell_type": "markdown",
      "source": [
        "Calculating the accuracy score"
      ],
      "metadata": {
        "id": "-zsPi-Pt-KS-"
      }
    },
    {
      "cell_type": "code",
      "source": [
        "from sklearn.metrics import accuracy_score\n",
        "print(\"Accuracy score: \",accuracy_score(Y_test,y_pred_1))"
      ],
      "metadata": {
        "colab": {
          "base_uri": "https://localhost:8080/"
        },
        "id": "bNAJM1TLySX8",
        "outputId": "b922a75a-0179-4c73-9fda-e31b1bcb2ce8"
      },
      "execution_count": null,
      "outputs": [
        {
          "output_type": "stream",
          "name": "stdout",
          "text": [
            "Accuracy score:  0.7402895480225988\n"
          ]
        }
      ]
    },
    {
      "cell_type": "markdown",
      "source": [
        "Finding the importance of different features of the dataset"
      ],
      "metadata": {
        "id": "ofDTbHGj-ULJ"
      }
    },
    {
      "cell_type": "code",
      "source": [
        "feature_imp_1 = pd.Series(clf_1.feature_importances_,index=X.columns).sort_values(ascending=False)\n",
        "feature_imp_1"
      ],
      "metadata": {
        "colab": {
          "base_uri": "https://localhost:8080/"
        },
        "id": "EedFKAyuyVYk",
        "outputId": "81e05020-41f8-4d2c-c744-9aa03179c481"
      },
      "execution_count": null,
      "outputs": [
        {
          "output_type": "execute_result",
          "data": {
            "text/plain": [
              "click_marketplace_value    0.709122\n",
              "total_contract_value       0.162074\n",
              "apply_start_clicks         0.055732\n",
              "job_listings               0.041620\n",
              "applications               0.028677\n",
              "job_slots                  0.002776\n",
              "dtype: float64"
            ]
          },
          "metadata": {},
          "execution_count": 25
        }
      ]
    },
    {
      "cell_type": "markdown",
      "source": [
        "Plotting the feature importance"
      ],
      "metadata": {
        "id": "azWC4_N--XDe"
      }
    },
    {
      "cell_type": "code",
      "source": [
        "sns.barplot(x=feature_imp_1, y=feature_imp_1.index)\n",
        "# Add labels to your graph\n",
        "plt.xlabel('Score')\n",
        "plt.ylabel('Features')\n",
        "plt.title(\"Important Features\")\n",
        "plt.legend()\n",
        "plt.show()"
      ],
      "metadata": {
        "colab": {
          "base_uri": "https://localhost:8080/",
          "height": 313
        },
        "id": "4bcrgXTkyY1B",
        "outputId": "65cb0bd6-009c-4371-8a33-dadd2708cb4e"
      },
      "execution_count": null,
      "outputs": [
        {
          "output_type": "stream",
          "name": "stderr",
          "text": [
            "No handles with labels found to put in legend.\n"
          ]
        },
        {
          "output_type": "display_data",
          "data": {
            "text/plain": [
              "<Figure size 432x288 with 1 Axes>"
            ],
            "image/png": "[encoded data removed]"
          },
          "metadata": {
            "needs_background": "light"
          }
        }
      ]
    }
  ]
}